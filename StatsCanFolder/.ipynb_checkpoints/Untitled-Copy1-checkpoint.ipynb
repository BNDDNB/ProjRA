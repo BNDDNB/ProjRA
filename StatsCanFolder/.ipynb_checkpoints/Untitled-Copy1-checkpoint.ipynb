{
 "cells": [
  {
   "cell_type": "code",
   "execution_count": 1,
   "metadata": {
    "collapsed": true
   },
   "outputs": [],
   "source": [
    "import csv, sqlite3\n",
    "import pandas as pd\n",
    "import numpy as np\n",
    "from sqlite3 import Error"
   ]
  },
  {
   "cell_type": "code",
   "execution_count": 2,
   "metadata": {
    "collapsed": true
   },
   "outputs": [],
   "source": [
    "con = sqlite3.connect(\":memory:\")\n",
    "cur = con.cursor()\n",
    "#create table equivalence of the data provided in the downloaded file\n",
    "cur.execute(\"CREATE TABLE CensusT (GEO_CODE INT, GEO_LVL INT, GEO_NAME VARCHAR(255), REG_STAT VARCHAR(255), REG_STAT_IND INT, AGE_GRP VARCHAR(255), \\\n",
    "\t\t\t \t\tAGE_GRP_IND INT, SEX VARCHAR(255), SEX_IND INT, INC_STAT VARCHAR(255), INC_STAT_IND INT, \\\n",
    "\t\t\t \t\tINC1 DOUBLE, INC2 DOUBLE, INC3 DOUBLE, INC4 DOUBLE, INC5 DOUBLE, INC6 DOUBLE, INC7 DOUBLE, INC8 DOUBLE, INC9 DOUBLE);\") # use your column names here\n",
    "included_cols = [1,2,3,7,8,10,11,13,14,16,17,19,20,21,22,23,24,25,26,27]\n",
    "to_db = []\n",
    "with open('./DS1.csv','rt') as fin: \n",
    "    reader = csv.reader(fin, delimiter = ',')\n",
    "    next(reader, None)\n",
    "    # csv.DictReader uses first line in file for column headings by default\n",
    "    for row in reader:\n",
    "        content = tuple (row[i] for i in included_cols)\n",
    "        to_db.append(content)\n",
    "\n",
    "cur.executemany(\"INSERT INTO CensusT (GEO_CODE, GEO_LVL, GEO_NAME, REG_STAT, REG_STAT_IND, AGE_GRP, AGE_GRP_IND, \\\n",
    "    SEX, SEX_IND, INC_STAT, INC_STAT_IND, INC1, INC2, INC3, INC4, INC5, INC6, INC7, INC8, INC9)\\\n",
    "    VALUES (?,?,?,?,?,?,?,?,?,?,?,?,?,?,?,?,?,?,?,?);\", to_db)\n",
    "#write the following into loop for batch operation\n",
    "cur.execute(\"ALTER TABLE CensusT ADD GEO_REG INT;\")\n",
    "cur.execute(\"UPDATE CensusT SET GEO_REG = (CASE \\\n",
    "            WHEN GEO_NAME IN ('Ontario','Quebec') THEN 2\\\n",
    "     WHEN GEO_NAME IN ('British Columbia','Alberta','Saskatchewan','Manitoba') THEN 1 \\\n",
    "     WHEN GEO_NAME IN ('New Brunswick','Prince Edward Island','Nova Scotia','Newfoundland and Labrador') THEN 3 \\\n",
    "     WHEN GEO_NAME IN ('Yukon','Northwest Territories','Nunavut') THEN 4 \\\n",
    "    ELSE 0 \\\n",
    "    END);\")\n",
    "con.commit()\n"
   ]
  },
  {
   "cell_type": "code",
   "execution_count": 14,
   "metadata": {},
   "outputs": [
    {
     "name": "stdout",
     "output_type": "stream",
     "text": [
      "(0.07330425673361671, 0.9266968624580583)\n"
     ]
    }
   ],
   "source": [
    "cur.execute(\"SELECT SUM(INC2)/SUM(INC1) as AB_VAL, SUM(INC9)/SUM(INC1) as NON_AB_VAL FROM CensusT WHERE GEO_REG =1 AND REG_STAT_IND = 1 AND AGE_GRP_IND = 1 AND SEX_IND = 1 AND INC_STAT_IND = 1;\")\n",
    "#SUM(INC2)/SUM(INC1) as AB_VAL, SUM(INC9)/SUM(INC1) as NON_AB_VAL\n",
    "rows = cur.fetchall()\n",
    "\n",
    "# df = pd.DataFrame(columns = ['Aboraginal Identity', 'None Aboraginal Identity'], index = ['Western Canada', 'Central Canada', 'Atlantic Canada', 'Northern Canada'])\n",
    "# df.iloc[0] = (1,2)\n",
    "# print (type((1,2)))\n",
    "# print (type(rows[0]))\n",
    "for row in rows:\n",
    "    print (row)"
   ]
  },
  {
   "cell_type": "code",
   "execution_count": 6,
   "metadata": {},
   "outputs": [
    {
     "data": {
      "text/html": [
       "<div>\n",
       "<style>\n",
       "    .dataframe thead tr:only-child th {\n",
       "        text-align: right;\n",
       "    }\n",
       "\n",
       "    .dataframe thead th {\n",
       "        text-align: left;\n",
       "    }\n",
       "\n",
       "    .dataframe tbody tr th {\n",
       "        vertical-align: top;\n",
       "    }\n",
       "</style>\n",
       "<table border=\"1\" class=\"dataframe\">\n",
       "  <thead>\n",
       "    <tr style=\"text-align: right;\">\n",
       "      <th></th>\n",
       "      <th>Aboraginal Identity</th>\n",
       "      <th>None Aboraginal Identity</th>\n",
       "    </tr>\n",
       "  </thead>\n",
       "  <tbody>\n",
       "    <tr>\n",
       "      <th>Western Canada</th>\n",
       "      <td>1</td>\n",
       "      <td>2</td>\n",
       "    </tr>\n",
       "    <tr>\n",
       "      <th>Central Canada</th>\n",
       "      <td>NaN</td>\n",
       "      <td>NaN</td>\n",
       "    </tr>\n",
       "    <tr>\n",
       "      <th>Atlantic Canada</th>\n",
       "      <td>NaN</td>\n",
       "      <td>NaN</td>\n",
       "    </tr>\n",
       "    <tr>\n",
       "      <th>Northern Canada</th>\n",
       "      <td>NaN</td>\n",
       "      <td>NaN</td>\n",
       "    </tr>\n",
       "  </tbody>\n",
       "</table>\n",
       "</div>"
      ],
      "text/plain": [
       "                Aboraginal Identity None Aboraginal Identity\n",
       "Western Canada                    1                        2\n",
       "Central Canada                  NaN                      NaN\n",
       "Atlantic Canada                 NaN                      NaN\n",
       "Northern Canada                 NaN                      NaN"
      ]
     },
     "execution_count": 6,
     "metadata": {},
     "output_type": "execute_result"
    }
   ],
   "source": [
    "# df = pd.DataFrame(columns = ['Aboraginal Identity', 'None Aboraginal Identity'], index = ['Western Canada', 'Central Canada', 'Atlantic Canada', 'Northern Canada'])\n",
    "# df.iloc[0] = (1,2)\n",
    "df"
   ]
  },
  {
   "cell_type": "code",
   "execution_count": 1,
   "metadata": {
    "collapsed": true
   },
   "outputs": [],
   "source": [
    "global sex_d"
   ]
  },
  {
   "cell_type": "code",
   "execution_count": 3,
   "metadata": {},
   "outputs": [
    {
     "name": "stdout",
     "output_type": "stream",
     "text": [
      "2\n"
     ]
    }
   ],
   "source": [
    "sex_d = {'Total - Sex': 1, 'Male': 2, 'Female' : 3}\n",
    "print (sex_d['Male'])"
   ]
  },
  {
   "cell_type": "code",
   "execution_count": 2,
   "metadata": {},
   "outputs": [
    {
     "name": "stdout",
     "output_type": "stream",
     "text": [
      "a\n"
     ]
    }
   ],
   "source": [
    "str = \" AND a\"\n",
    "print (str[5:])"
   ]
  },
  {
   "cell_type": "code",
   "execution_count": 2,
   "metadata": {},
   "outputs": [
    {
     "ename": "OperationalError",
     "evalue": "near \"DOUBLE\": syntax error",
     "output_type": "error",
     "traceback": [
      "\u001b[0;31m---------------------------------------------------------------------------\u001b[0m",
      "\u001b[0;31mOperationalError\u001b[0m                          Traceback (most recent call last)",
      "\u001b[0;32m<ipython-input-2-373aa153ca86>\u001b[0m in \u001b[0;36m<module>\u001b[0;34m()\u001b[0m\n\u001b[1;32m     41\u001b[0m \u001b[0;34m\u001b[0m\u001b[0m\n\u001b[1;32m     42\u001b[0m \u001b[0;32mif\u001b[0m \u001b[0m__name__\u001b[0m \u001b[0;34m==\u001b[0m \u001b[0;34m'__main__'\u001b[0m\u001b[0;34m:\u001b[0m\u001b[0;34m\u001b[0m\u001b[0m\n\u001b[0;32m---> 43\u001b[0;31m     \u001b[0mmain\u001b[0m\u001b[0;34m(\u001b[0m\u001b[0;34m)\u001b[0m\u001b[0;34m\u001b[0m\u001b[0m\n\u001b[0m",
      "\u001b[0;32m<ipython-input-2-373aa153ca86>\u001b[0m in \u001b[0;36mmain\u001b[0;34m()\u001b[0m\n\u001b[1;32m     37\u001b[0m         \u001b[0mcon\u001b[0m \u001b[0;34m=\u001b[0m \u001b[0msqlite3\u001b[0m\u001b[0;34m.\u001b[0m\u001b[0mconnect\u001b[0m\u001b[0;34m(\u001b[0m\u001b[0;34m\":memory:\"\u001b[0m\u001b[0;34m)\u001b[0m\u001b[0;34m\u001b[0m\u001b[0m\n\u001b[1;32m     38\u001b[0m         \u001b[0minit\u001b[0m\u001b[0;34m(\u001b[0m\u001b[0;34m)\u001b[0m\u001b[0;34m\u001b[0m\u001b[0m\n\u001b[0;32m---> 39\u001b[0;31m         \u001b[0mdata_reader\u001b[0m\u001b[0;34m(\u001b[0m\u001b[0mcon\u001b[0m\u001b[0;34m,\u001b[0m \u001b[0mdatafile\u001b[0m\u001b[0;34m)\u001b[0m\u001b[0;34m\u001b[0m\u001b[0m\n\u001b[0m\u001b[1;32m     40\u001b[0m         \u001b[0;31m#proc_tabular(con,'Total - Age', 'Total - Population by Registered or Treaty Indian status', 'Total - Sex', 'ProportionofPopulation.csv')\u001b[0m\u001b[0;34m\u001b[0m\u001b[0;34m\u001b[0m\u001b[0m\n\u001b[1;32m     41\u001b[0m \u001b[0;34m\u001b[0m\u001b[0m\n",
      "\u001b[0;32m<ipython-input-2-373aa153ca86>\u001b[0m in \u001b[0;36mdata_reader\u001b[0;34m(con, filename)\u001b[0m\n\u001b[1;32m     16\u001b[0m \u001b[0;34m\u001b[0m\u001b[0m\n\u001b[1;32m     17\u001b[0m         \u001b[0;31m# this inserts the records into the sqlite db in memory\u001b[0m\u001b[0;34m\u001b[0m\u001b[0;34m\u001b[0m\u001b[0m\n\u001b[0;32m---> 18\u001b[0;31m         \u001b[0mcur\u001b[0m\u001b[0;34m.\u001b[0m\u001b[0mexecutemany\u001b[0m\u001b[0;34m(\u001b[0m\u001b[0;34m\"INSERT INTO CensusT (GEO_CODE, GEO_LVL, GEO_NAME, REG_STAT, REG_STAT_IND, AGE_GRP, AGE_GRP_IND,        SEX, SEX_IND, INC_STAT, INC_STAT_IND, TTL_STAT DOUBLE,  AB_ID, SING_AB, FNATION, METIS,         INUK, MUL_AB, OS_AB, NOT_AB) VALUES (?,?,?,?,?,?,?,?,?,?,?,?,?,?,?,?,?,?,?,?);\"\u001b[0m\u001b[0;34m,\u001b[0m \u001b[0mto_db\u001b[0m\u001b[0;34m)\u001b[0m\u001b[0;34m\u001b[0m\u001b[0m\n\u001b[0m\u001b[1;32m     19\u001b[0m \u001b[0;34m\u001b[0m\u001b[0m\n\u001b[1;32m     20\u001b[0m         \u001b[0mcmd_lst\u001b[0m \u001b[0;34m=\u001b[0m \u001b[0;34m[\u001b[0m\u001b[0mtbl_altr\u001b[0m\u001b[0;34m,\u001b[0m\u001b[0mtbl_update\u001b[0m\u001b[0;34m]\u001b[0m\u001b[0;34m\u001b[0m\u001b[0m\n",
      "\u001b[0;31mOperationalError\u001b[0m: near \"DOUBLE\": syntax error"
     ]
    }
   ],
   "source": [
    "def query_exec(con, cmd_lst):\n",
    "    cur = con.cursor() \n",
    "    for each in cmd_lst:\n",
    "        cur.execute(each)\n",
    "\n",
    "def data_reader(con, filename):\n",
    "\tcur = con.cursor()\n",
    "\tcur.execute(tbl_create) # use your column names here\n",
    "\tto_db = []\n",
    "\twith open(filename,'rt') as fin: \n",
    "\t    reader = csv.reader(fin, delimiter = ',')\n",
    "\t    next(reader, None)\n",
    "\t    for row in reader:\n",
    "\t        content = tuple(row[i] for i in included_cols)\n",
    "\t        to_db.append(content)\n",
    "\t    \n",
    "\t# this inserts the records into the sqlite db in memory\n",
    "\tcur.executemany(\"INSERT INTO CensusT (GEO_CODE, GEO_LVL, GEO_NAME, REG_STAT, REG_STAT_IND, AGE_GRP, AGE_GRP_IND, \\\n",
    "\tSEX, SEX_IND, INC_STAT, INC_STAT_IND, TTL_STAT DOUBLE,  AB_ID, SING_AB, FNATION, METIS, \\\n",
    "\tINUK, MUL_AB, OS_AB, NOT_AB) VALUES (?,?,?,?,?,?,?,?,?,?,?,?,?,?,?,?,?,?,?,?);\", to_db)\n",
    "\n",
    "\tcmd_lst = [tbl_altr,tbl_update]\n",
    "\tquery_exec(cmd_lst)\n",
    "\tcon.commit()\n",
    "    \n",
    "def init():\n",
    "\tglobal sex_d, region_d, age_d, reg_d, tbl_create, tbl_altr, tbl_update, included_cols, datafile\n",
    "\tsex_d = {'Total - Sex': 1, 'Male': 2, 'Female' : 3}\n",
    "\tregion_d = {'Western Canada':1, 'Central Canada':2, 'Atlantic Canada':3, 'Northern Canada':4}\n",
    "\tage_d = {'Total - Age':1, '15 to 24 years':2, '25 to 64 years':3,'25 to 54 years':4, \\\n",
    "\t\t\t'25 to 34 years':5, '35 to 44 years':6, '45 to 54 years':7, '55 to 64 years':8, '65 years and over':9}\n",
    "\treg_d = {'Total - Population by Registered or Treaty Indian status':1,'Registered or Treaty Indian':2,'Not a Registered or Treaty Indian':3}\n",
    "\tdatafile = 'DS1.csv' \n",
    "\tincluded_cols = [1,2,3,7,8,10,11,13,14,16,17,19,20,21,22,23,24,25,26,27]\n",
    "\ttbl_altr = \"ALTER TABLE CensusT ADD GEO_REG INT;\"\n",
    "\ttbl_create = \"CREATE TABLE CensusT (GEO_CODE INT, GEO_LVL INT, GEO_NAME VARCHAR(255), REG_STAT VARCHAR(255), REG_STAT_IND INT, AGE_GRP VARCHAR(255), \\\n",
    "\t\t\t \t\tAGE_GRP_IND INT, SEX VARCHAR(255), SEX_IND INT, INC_STAT VARCHAR(255), INC_STAT_IND INT, \\\n",
    "\t\t\t \t\tTTL_STAT DOUBLE,  AB_ID, SING_AB DOUBLE, FNATION DOUBLE, METIS DOUBLE, INUK DOUBLE, MUL_AB DOUBLE, OS_AB DOUBLE, NOT_AB DOUBLE);\"\n",
    "\ttbl_update = \"UPDATE CensusT SET GEO_REG = (CASE \\\n",
    "\t            WHEN GEO_NAME IN ('Ontario','Quebec') THEN 2\\\n",
    "\t     \t\tWHEN GEO_NAME IN ('British Columbia','Alberta','Saskatchewan','Manitoba') THEN 1 \\\n",
    "\t     \t\tWHEN GEO_NAME IN ('New Brunswick','Prince Edward Island','Nova Scotia','Newfoundland and Labrador') THEN 3 \\\n",
    "\t     \t\tWHEN GEO_NAME IN ('Yukon','Northwest Territories','Nunavut') THEN 4 \\\n",
    "\t    \t\tELSE 0 \\\n",
    "\t    \t\tEND);\"\n",
    "\n",
    "def main():\n",
    "\tcon = sqlite3.connect(\":memory:\")\n",
    "\tinit()\n",
    "\tdata_reader(con, datafile)\n",
    "\t#proc_tabular(con,'Total - Age', 'Total - Population by Registered or Treaty Indian status', 'Total - Sex', 'ProportionofPopulation.csv')\n",
    "\n",
    "if __name__ == '__main__':\n",
    "    main()\n"
   ]
  },
  {
   "cell_type": "code",
   "execution_count": 1,
   "metadata": {},
   "outputs": [
    {
     "name": "stderr",
     "output_type": "stream",
     "text": [
      " * Running on http://127.0.0.1:5000/ (Press CTRL+C to quit)\n",
      " * Restarting with stat\n"
     ]
    },
    {
     "ename": "SystemExit",
     "evalue": "1",
     "output_type": "error",
     "traceback": [
      "An exception has occurred, use %tb to see the full traceback.\n",
      "\u001b[0;31mSystemExit\u001b[0m\u001b[0;31m:\u001b[0m 1\n"
     ]
    },
    {
     "name": "stderr",
     "output_type": "stream",
     "text": [
      "/Users/bodong/anaconda3/lib/python3.6/site-packages/IPython/core/interactiveshell.py:2870: UserWarning: To exit: use 'exit', 'quit', or Ctrl-D.\n",
      "  warn(\"To exit: use 'exit', 'quit', or Ctrl-D.\", stacklevel=1)\n"
     ]
    }
   ],
   "source": [
    "from flask import Flask, render_template, request\n",
    "app = Flask(__name__)\n",
    "app.debug = True\n",
    "\n",
    "\n",
    "@app.route('/', methods=['GET'])\n",
    "def dropdown():\n",
    "    colours = ['Red', 'Blue', 'Black', 'Orange']\n",
    "    return render_template('index.html', colours=colours)\n",
    "\n",
    "if __name__ == \"__main__\":\n",
    "    app.run()"
   ]
  },
  {
   "cell_type": "code",
   "execution_count": null,
   "metadata": {
    "collapsed": true
   },
   "outputs": [],
   "source": []
  }
 ],
 "metadata": {
  "kernelspec": {
   "display_name": "Python 3",
   "language": "python",
   "name": "python3"
  },
  "language_info": {
   "codemirror_mode": {
    "name": "ipython",
    "version": 3
   },
   "file_extension": ".py",
   "mimetype": "text/x-python",
   "name": "python",
   "nbconvert_exporter": "python",
   "pygments_lexer": "ipython3",
   "version": "3.6.3"
  }
 },
 "nbformat": 4,
 "nbformat_minor": 2
}
