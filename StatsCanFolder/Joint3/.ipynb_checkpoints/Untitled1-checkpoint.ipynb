{
 "cells": [
  {
   "cell_type": "code",
   "execution_count": 1,
   "metadata": {
    "collapsed": true
   },
   "outputs": [],
   "source": [
    "sex_d = {'Total - Sex': 1, 'Male': 2, 'Female' : 3}\n",
    "region_d = {'Western Canada':1, 'Central Canada':2, 'Atlantic Canada':3, 'Northern Canada':4}\n",
    "age_d = {'Total - Age':1, '15 to 24 years':2, '25 to 64 years':3,'25 to 54 years':4, \\\n",
    "        '25 to 34 years':5, '35 to 44 years':6, '45 to 54 years':7, '55 to 64 years':8, '65 years and over':9}\n",
    "reg_d = {'Total - Population by Registered or Treaty Indian status':1,'Registered or Treaty Indian':2,'Not a Registered or Treaty Indian':3}\n",
    "inc_d = {'Total - Income statistics':1, 'Average total income ($)':5}\n",
    "\n",
    "datafile = 'DS1.csv' \n",
    "datafile2 = 'DS2.csv'\n",
    "included_cols = [1,2,3,7,8,10,11,13,14,16,17,19,20,21,22,23,24,25,26,27]\n",
    "included_cols2 = [1,2,3,7,8,10,11,13,14,16,17,19,20,22]\n",
    "sel_pp1 = \"SELECT ROUND(SUM(AB_ID) / SUM(TTL_STAT),2) as AB_VAL, ROUND(SUM(NOT_AB)/SUM(TTL_STAT),2) as NON_AB_VAL FROM CensusT \"\n",
    "sel_pp2 = \"SELECT AB_ID, NOT_AB FROM CensusT \"\n",
    "tbl_altr = \"ALTER TABLE CensusT ADD GEO_REG INT;\"\n",
    "tbl_create = \"CREATE TABLE CensusT (GEO_CODE INT, GEO_LVL INT, GEO_NAME VARCHAR(255), REG_STAT VARCHAR(255), REG_STAT_IND INT, AGE_GRP VARCHAR(255), \\\n",
    "                AGE_GRP_IND INT, SEX VARCHAR(255), SEX_IND INT, INC_STAT VARCHAR(255), INC_STAT_IND INT, \\\n",
    "                TTL_STAT DOUBLE,  AB_ID DOUBLE, SING_AB DOUBLE, FNATION DOUBLE, METIS DOUBLE, INUK DOUBLE, MUL_AB DOUBLE, OS_AB DOUBLE, NOT_AB DOUBLE);\"\n",
    "tbl_create2 = \"CREATE TABLE CensusT2 (GEO_CODE INT, GEO_LVL INT, GEO_NAME VARCHAR(255), HOUSE VARCHAR(255), HOUSE_IND INT, AGE_GRP VARCHAR(255), \\\n",
    "                AGE_GRP_IND INT, SEX VARCHAR(255), SEX_IND INT, ERNR VARCHAR(255), ERNR_IND INT, INC_STAT VARCHAR(255), INC_STAT_IND INT, INC2015 INT);\"\n",
    "insert1 = \"INSERT INTO CensusT (GEO_CODE, GEO_LVL, GEO_NAME, REG_STAT, REG_STAT_IND, AGE_GRP, AGE_GRP_IND, \\\n",
    "            SEX, SEX_IND, INC_STAT, INC_STAT_IND, TTL_STAT,  AB_ID, SING_AB, FNATION, METIS, \\\n",
    "            INUK, MUL_AB, OS_AB, NOT_AB) VALUES (?,?,?,?,?,?,?,?,?,?,?,?,?,?,?,?,?,?,?,?);\"\n",
    "insert2 = \"INSERT INTO CensusT2 (GEO_CODE, GEO_LVL, GEO_NAME, HOUSE,  HOUSE_IND, AGE_GRP, AGE_GRP_IND, \\\n",
    "            SEX, SEX_IND, ERNR, ERNR_IND, INC_STAT, INC_STAT_IND, INC2015) VALUES (?,?,?,?,?,?,?,?,?,?,?,?,?,?);\"\n",
    "tbl_update = \"UPDATE CensusT SET GEO_REG = (CASE \\\n",
    "            WHEN GEO_NAME IN ('Ontario','Quebec') THEN 2\\\n",
    "            WHEN GEO_NAME IN ('British Columbia','Alberta','Saskatchewan','Manitoba') THEN 1 \\\n",
    "            WHEN GEO_NAME IN ('New Brunswick','Prince Edward Island','Nova Scotia','Newfoundland and Labrador') THEN 3 \\\n",
    "            WHEN GEO_NAME IN ('Yukon','Northwest Territories','Nunavut') THEN 4 \\\n",
    "            ELSE 0 END);\""
   ]
  },
  {
   "cell_type": "code",
   "execution_count": 8,
   "metadata": {},
   "outputs": [],
   "source": [
    "import sqlite3\n",
    "import pandas, csv\n",
    "con = sqlite3.connect(\":memory:\")\n",
    "cur = con.cursor()\n",
    "def data_reader(con, filename, tbl_clause, incl_cols, insert_clause):\n",
    "\t#creating table and prepare for the filenames\n",
    "\tcur = con.cursor()\n",
    "\tcur.execute(tbl_clause) \n",
    "\tto_db = []\n",
    "\twith open(filename,'rt') as fin: \n",
    "\t    reader = csv.reader(fin, delimiter = ',')\n",
    "\t    next(reader, None)\n",
    "\t    for row in reader:\n",
    "\t        content = tuple(row[i] for i in incl_cols)\n",
    "\t        to_db.append(content)\n",
    "\t    \n",
    "\t# this inserts the records into the sqlite db in memory\n",
    "\tcur.executemany(insert_clause, to_db)\n",
    "\t#update tasks\n",
    "\tcon.commit()\n",
    "def query_exec(con, cmd_lst):\n",
    "    cur = con.cursor() \n",
    "    for each in cmd_lst:\n",
    "        cur.execute(each)"
   ]
  },
  {
   "cell_type": "code",
   "execution_count": 9,
   "metadata": {},
   "outputs": [
    {
     "ename": "OperationalError",
     "evalue": "table CensusT has no column named HOUSE",
     "output_type": "error",
     "traceback": [
      "\u001b[0;31m---------------------------------------------------------------------------\u001b[0m",
      "\u001b[0;31mOperationalError\u001b[0m                          Traceback (most recent call last)",
      "\u001b[0;32m<ipython-input-9-4835c542eb0d>\u001b[0m in \u001b[0;36m<module>\u001b[0;34m()\u001b[0m\n\u001b[1;32m      2\u001b[0m \u001b[0mcmd_lst\u001b[0m \u001b[0;34m=\u001b[0m \u001b[0;34m[\u001b[0m\u001b[0mtbl_altr\u001b[0m\u001b[0;34m,\u001b[0m\u001b[0mtbl_update\u001b[0m\u001b[0;34m]\u001b[0m\u001b[0;34m\u001b[0m\u001b[0m\n\u001b[1;32m      3\u001b[0m \u001b[0mquery_exec\u001b[0m\u001b[0;34m(\u001b[0m\u001b[0mcon\u001b[0m\u001b[0;34m,\u001b[0m \u001b[0mcmd_lst\u001b[0m\u001b[0;34m)\u001b[0m\u001b[0;34m\u001b[0m\u001b[0m\n\u001b[0;32m----> 4\u001b[0;31m \u001b[0mdata_reader\u001b[0m\u001b[0;34m(\u001b[0m\u001b[0mcon\u001b[0m\u001b[0;34m,\u001b[0m \u001b[0mdatafile2\u001b[0m\u001b[0;34m,\u001b[0m \u001b[0mtbl_create2\u001b[0m\u001b[0;34m,\u001b[0m\u001b[0mincluded_cols2\u001b[0m\u001b[0;34m,\u001b[0m\u001b[0minsert2\u001b[0m\u001b[0;34m)\u001b[0m\u001b[0;34m\u001b[0m\u001b[0m\n\u001b[0m\u001b[1;32m      5\u001b[0m \u001b[0mcon\u001b[0m\u001b[0;34m.\u001b[0m\u001b[0mcommit\u001b[0m\u001b[0;34m(\u001b[0m\u001b[0;34m)\u001b[0m\u001b[0;34m\u001b[0m\u001b[0m\n",
      "\u001b[0;32m<ipython-input-8-172510bc0684>\u001b[0m in \u001b[0;36mdata_reader\u001b[0;34m(con, filename, tbl_clause, incl_cols, insert_clause)\u001b[0m\n\u001b[1;32m     16\u001b[0m \u001b[0;34m\u001b[0m\u001b[0m\n\u001b[1;32m     17\u001b[0m         \u001b[0;31m# this inserts the records into the sqlite db in memory\u001b[0m\u001b[0;34m\u001b[0m\u001b[0;34m\u001b[0m\u001b[0m\n\u001b[0;32m---> 18\u001b[0;31m         \u001b[0mcur\u001b[0m\u001b[0;34m.\u001b[0m\u001b[0mexecutemany\u001b[0m\u001b[0;34m(\u001b[0m\u001b[0minsert_clause\u001b[0m\u001b[0;34m,\u001b[0m \u001b[0mto_db\u001b[0m\u001b[0;34m)\u001b[0m\u001b[0;34m\u001b[0m\u001b[0m\n\u001b[0m\u001b[1;32m     19\u001b[0m         \u001b[0;31m#update tasks\u001b[0m\u001b[0;34m\u001b[0m\u001b[0;34m\u001b[0m\u001b[0m\n\u001b[1;32m     20\u001b[0m         \u001b[0mcon\u001b[0m\u001b[0;34m.\u001b[0m\u001b[0mcommit\u001b[0m\u001b[0;34m(\u001b[0m\u001b[0;34m)\u001b[0m\u001b[0;34m\u001b[0m\u001b[0m\n",
      "\u001b[0;31mOperationalError\u001b[0m: table CensusT has no column named HOUSE"
     ]
    }
   ],
   "source": [
    "data_reader(con, datafile, tbl_create,included_cols,insert1)\n",
    "cmd_lst = [tbl_altr,tbl_update]\n",
    "query_exec(con, cmd_lst)\n",
    "data_reader(con, datafile2, tbl_create2,included_cols2,insert2)\n",
    "con.commit()"
   ]
  },
  {
   "cell_type": "code",
   "execution_count": null,
   "metadata": {
    "collapsed": true
   },
   "outputs": [],
   "source": []
  }
 ],
 "metadata": {
  "kernelspec": {
   "display_name": "Python 3",
   "language": "python",
   "name": "python3"
  },
  "language_info": {
   "codemirror_mode": {
    "name": "ipython",
    "version": 3
   },
   "file_extension": ".py",
   "mimetype": "text/x-python",
   "name": "python",
   "nbconvert_exporter": "python",
   "pygments_lexer": "ipython3",
   "version": "3.6.3"
  }
 },
 "nbformat": 4,
 "nbformat_minor": 2
}
